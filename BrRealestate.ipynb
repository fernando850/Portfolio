{
 "cells": [
  {
   "cell_type": "markdown",
   "id": "f050ab6d",
   "metadata": {},
   "source": [
    "# Finding the 15 best brazilian Real Estates\n",
    "\n",
    "## Introduction\n",
    "\n",
    "In this project,I performed a webscrapping over 322 brazilian Real States Tickers from 2 different websites, cleaned the data and executed a quantitative data manipulation based on the value investing strategy to decide the best 15 tickers. The motivation for this project was to help on my personal investments and develop my programming skills. "
   ]
  },
  {
   "cell_type": "markdown",
   "id": "772410b8",
   "metadata": {},
   "source": [
    "## About the Strategy\n",
    "\n",
    "The strategy to determine the best tickers named S-Rank Strategy was created by [Clube do valor](https://clubedovalor.com.br/blog/melhores-fiis-s-rank/) and their inspiration was the value investing principles. We can divide this strategy in two steps:\n",
    "\n",
    "### 1. Filtering the data\n",
    "####        a. Liquidity filter: \n",
    "Filtering the tickers where liquidity is higher than 200 thousands brazilian reais.\n",
    "####        b. Type filter: \n",
    "Erasing Companies that focus on the development of new properties in our data. The reason for this is that  they are more risky, which could compromise the comparation with other types of REITs.\n",
    "####        c. Estability filter: \n",
    "Eliminating companies where the difference between median and mean of the dividends paid are too high. \n",
    "####        d. Age filter: \n",
    "Filtering companies where the age is greater than 1 year.\n",
    "### 2. Ranking the data\n",
    "Finally, for this step, we rank the remaining Real Estates on 2 metrics: P/B (Price/Book) and Dividend Yield. Thus, each ticker is assigned a number (1, 2, 3...) based on how low its P/B is relative to others, and another (1, 2, 3...) based on how high the Dividend Yield is. The purpose is to select cheaper companies that are able to return more on our investments. After, the position of each Real Estate in these two rankings are added, and a new ranking formed, where the first 15 Tickers are the best based on this strategy.\n"
   ]
  },
  {
   "cell_type": "markdown",
   "id": "fdf2483e",
   "metadata": {},
   "source": [
    "# Table of contents\n",
    "\n",
    "1. Webscraping and reading the data.\n",
    "      1. Reading data from \"fundamentus\" website.    \n",
    "      2. Applying the Liquidity filter.\n",
    "      3. Performing a loop to webscrapp additional data.\n",
    "\n",
    "\n",
    "2. Cleaning the data.\n",
    "      1. Removing undesirable characters, and counting nan values\n",
    "      2. Dropping rows with NaN values and assigning the correct dtype.  \n",
    "\n",
    "\n",
    "3. Applying the S-Rank Strategy.\n",
    "      1. Filtering the data.\n",
    "      2. Sorting values to create the ranking."
   ]
  },
  {
   "cell_type": "code",
   "execution_count": 1,
   "id": "871d47d0",
   "metadata": {},
   "outputs": [],
   "source": [
    "import pandas as pd\n",
    "import numpy as np\n",
    "import requests\n",
    "from bs4 import BeautifulSoup\n",
    "from requests.packages.urllib3.exceptions import InsecureRequestWarning\n",
    "requests.packages.urllib3.disable_warnings(InsecureRequestWarning)\n",
    "from datetime import datetime\n",
    "from datetime import date\n",
    "import matplotlib as plt\n",
    "import seaborn as sns"
   ]
  },
  {
   "cell_type": "markdown",
   "id": "9a59b530",
   "metadata": {},
   "source": [
    "## 1. Webscraping and reading the data"
   ]
  },
  {
   "cell_type": "markdown",
   "id": "7410210f",
   "metadata": {},
   "source": [
    "### 1.A Reading data from \"fundamentus\" website"
   ]
  },
  {
   "cell_type": "code",
   "execution_count": 2,
   "id": "8d7a5e62",
   "metadata": {},
   "outputs": [
    {
     "name": "stdout",
     "output_type": "stream",
     "text": [
      "          Price Dividend Yield   P/B  Liquidity\n",
      "Ticker                                         \n",
      "ABCP11    72.95          7,54%  0.79      79436\n",
      "AEFI11   174.90          0,00%  1.24          0\n",
      "AFCR11   103.15          6,95%  1.01          0\n",
      "AFHI11    98.55         11,01%  1.02     859801\n",
      "AFOF11    89.22         11,02%  0.88      75962\n",
      "...         ...            ...   ...        ...\n",
      "XPSF11     7.00         12,00%  0.08    1055370\n",
      "XTED11     6.13          0,00%  0.44       7057\n",
      "YCHY11  1000.00          0,00%  9.98          0\n",
      "YUFI11   105.00          0,00%  1.00          8\n",
      "ZIFI11  1189.89          0,40%  1.08      20897\n",
      "\n",
      "[324 rows x 4 columns]\n"
     ]
    }
   ],
   "source": [
    "url='https://www.fundamentus.com.br/fii_resultado.php'\n",
    "\n",
    "header = {\n",
    "  \"User-Agent\": \"Mozilla/5.0 (Windows NT 10.0; Win64; x64) AppleWebKit/537.36 (KHTML, like Gecko) Chrome/84.0.4147.89 Safari/537.36\"  \n",
    " }\n",
    "r = requests.get(url, headers=header)\n",
    "\n",
    "realestate=pd.read_html(r.text, decimal=',',thousands='.')[0]\n",
    "\n",
    "realestate=realestate[['Papel','Cotação','Dividend Yield','P/VP','Liquidez']]\n",
    "realestate=realestate.rename(columns={'Papel':'Ticker','Cotação':'Price','P/VP':'P/B','Liquidez':'Liquidity'})\n",
    "realestate=realestate.set_index('Ticker')\n",
    "\n",
    "print(realestate)"
   ]
  },
  {
   "cell_type": "markdown",
   "id": "ad43ff26",
   "metadata": {},
   "source": [
    "As it is possible to visualize in the dataframe above, the Dividend Yield column have some undesirable characters as \"%\", and \",\" instead of \".\" for decimal delimitator. However, we will not treat this column now, because we still have more data to add to the dataframe. In order to add the aditional data, we need to perform a loop over all of the Tickers, but since that we already have the liquidity column, it is convenient filter these dataframe first"
   ]
  },
  {
   "cell_type": "markdown",
   "id": "d795d39f",
   "metadata": {},
   "source": [
    "### 1.B Applying the liquidity filter"
   ]
  },
  {
   "cell_type": "code",
   "execution_count": 3,
   "id": "e3433996",
   "metadata": {},
   "outputs": [
    {
     "name": "stdout",
     "output_type": "stream",
     "text": [
      "(137, 4)\n"
     ]
    }
   ],
   "source": [
    "realestate=realestate[realestate['Liquidity']>200000]\n",
    "print(realestate.shape)"
   ]
  },
  {
   "cell_type": "markdown",
   "id": "79328316",
   "metadata": {},
   "source": [
    "Now that we have only 135 rows, instead of 323, we can execute a faster loop to find the aditional data needed for the analysis. "
   ]
  },
  {
   "cell_type": "markdown",
   "id": "f1bcefd7",
   "metadata": {},
   "source": [
    "### 1.C Perfoming a loop to webscrap additional data\n",
    "\n",
    "In order to apply the remaining 3 filters, we need to webscrapp the mean and median of the dividends paid in the last 12 months, the goal of the company, and the date when the Ticker started to be traded on the Stock Market. For the dividends, we will use the pandas.read_html  to take the data from the [statusinvest](https://statusinvest.com.br/) website. However, for the remaining data this function is not effective, because this information is not displayed as table, so the BeautifulSoup library will be used to webscrapp it from the [fiis](https://fiis.com.br/) website.\n"
   ]
  },
  {
   "cell_type": "code",
   "execution_count": 4,
   "id": "e5a50b28",
   "metadata": {},
   "outputs": [
    {
     "data": {
      "text/html": [
       "<div>\n",
       "<style scoped>\n",
       "    .dataframe tbody tr th:only-of-type {\n",
       "        vertical-align: middle;\n",
       "    }\n",
       "\n",
       "    .dataframe tbody tr th {\n",
       "        vertical-align: top;\n",
       "    }\n",
       "\n",
       "    .dataframe thead th {\n",
       "        text-align: right;\n",
       "    }\n",
       "</style>\n",
       "<table border=\"1\" class=\"dataframe\">\n",
       "  <thead>\n",
       "    <tr style=\"text-align: right;\">\n",
       "      <th></th>\n",
       "      <th>Birthdate</th>\n",
       "      <th>Type</th>\n",
       "      <th>Div_mean</th>\n",
       "      <th>Div_median</th>\n",
       "    </tr>\n",
       "    <tr>\n",
       "      <th>Ticker</th>\n",
       "      <th></th>\n",
       "      <th></th>\n",
       "      <th></th>\n",
       "      <th></th>\n",
       "    </tr>\n",
       "  </thead>\n",
       "  <tbody>\n",
       "    <tr>\n",
       "      <th>AFHI11</th>\n",
       "      <td>20/10/2020</td>\n",
       "      <td>Títulos e Valores Mobiliários Gestão Ativa</td>\n",
       "      <td>1.054167</td>\n",
       "      <td>1.125</td>\n",
       "    </tr>\n",
       "    <tr>\n",
       "      <th>AIEC11</th>\n",
       "      <td>24/08/2020</td>\n",
       "      <td>Renda Gestão Ativa</td>\n",
       "      <td>0.68</td>\n",
       "      <td>0.61</td>\n",
       "    </tr>\n",
       "    <tr>\n",
       "      <th>ALZR11</th>\n",
       "      <td>20/10/2017</td>\n",
       "      <td>Renda Gestão Ativa</td>\n",
       "      <td>0.690054</td>\n",
       "      <td>0.674241</td>\n",
       "    </tr>\n",
       "    <tr>\n",
       "      <th>ARCT11</th>\n",
       "      <td>31/07/2017</td>\n",
       "      <td>Híbrido Gestão Ativa</td>\n",
       "      <td>1.245146</td>\n",
       "      <td>1.280557</td>\n",
       "    </tr>\n",
       "    <tr>\n",
       "      <th>ARRI11</th>\n",
       "      <td>01/07/2019</td>\n",
       "      <td>Títulos e Valores Mobiliários Gestão Ativa</td>\n",
       "      <td>1.302953</td>\n",
       "      <td>1.305</td>\n",
       "    </tr>\n",
       "    <tr>\n",
       "      <th>BARI11</th>\n",
       "      <td>05/07/2018</td>\n",
       "      <td>Títulos e Valores Mobiliários Gestão Ativa</td>\n",
       "      <td>1.153333</td>\n",
       "      <td>1.125</td>\n",
       "    </tr>\n",
       "    <tr>\n",
       "      <th>BBFI11B</th>\n",
       "      <td>26/07/2004</td>\n",
       "      <td>Renda Gestão Passiva</td>\n",
       "      <td>26.808801</td>\n",
       "      <td>26.428727</td>\n",
       "    </tr>\n",
       "    <tr>\n",
       "      <th>BBPO11</th>\n",
       "      <td>30/09/2011</td>\n",
       "      <td>Renda Gestão Passiva</td>\n",
       "      <td>0.923916</td>\n",
       "      <td>0.89</td>\n",
       "    </tr>\n",
       "    <tr>\n",
       "      <th>BCFF11</th>\n",
       "      <td>27/08/2009</td>\n",
       "      <td>Títulos e Valores Mobiliários Gestão Ativa</td>\n",
       "      <td>0.510239</td>\n",
       "      <td>0.5</td>\n",
       "    </tr>\n",
       "    <tr>\n",
       "      <th>BCIA11</th>\n",
       "      <td>03/11/2014</td>\n",
       "      <td>Títulos e Valores Mobiliários Gestão Ativa</td>\n",
       "      <td>0.6525</td>\n",
       "      <td>0.64</td>\n",
       "    </tr>\n",
       "    <tr>\n",
       "      <th>BCRI11</th>\n",
       "      <td>28/04/2015</td>\n",
       "      <td>Títulos e Valores Mobiliários Gestão Ativa</td>\n",
       "      <td>1.240833</td>\n",
       "      <td>1.225</td>\n",
       "    </tr>\n",
       "    <tr>\n",
       "      <th>BLCP11</th>\n",
       "      <td>27/01/2020</td>\n",
       "      <td>Renda Gestão Ativa</td>\n",
       "      <td>0.487459</td>\n",
       "      <td>0.51</td>\n",
       "    </tr>\n",
       "    <tr>\n",
       "      <th>BLMG11</th>\n",
       "      <td>13/11/2019</td>\n",
       "      <td>Renda Gestão Ativa</td>\n",
       "      <td>0.883333</td>\n",
       "      <td>0.9</td>\n",
       "    </tr>\n",
       "    <tr>\n",
       "      <th>BLMR11</th>\n",
       "      <td>04/08/2020</td>\n",
       "      <td>Títulos e Valores Mobiliários Gestão Ativa</td>\n",
       "      <td></td>\n",
       "      <td></td>\n",
       "    </tr>\n",
       "    <tr>\n",
       "      <th>BPFF11</th>\n",
       "      <td>11/12/2012</td>\n",
       "      <td>Renda Gestão Ativa</td>\n",
       "      <td>0.584167</td>\n",
       "      <td>0.585</td>\n",
       "    </tr>\n",
       "    <tr>\n",
       "      <th>BRCO11</th>\n",
       "      <td>13/07/2016</td>\n",
       "      <td>Híbrido Gestão Ativa</td>\n",
       "      <td>0.5925</td>\n",
       "      <td>0.585</td>\n",
       "    </tr>\n",
       "    <tr>\n",
       "      <th>BRCR11</th>\n",
       "      <td>21/05/2007</td>\n",
       "      <td>Híbrido Gestão Ativa</td>\n",
       "      <td>0.48</td>\n",
       "      <td>0.48</td>\n",
       "    </tr>\n",
       "    <tr>\n",
       "      <th>BTAL11</th>\n",
       "      <td>22/01/2021</td>\n",
       "      <td>Renda Gestão Ativa</td>\n",
       "      <td>0.737645</td>\n",
       "      <td>0.8</td>\n",
       "    </tr>\n",
       "    <tr>\n",
       "      <th>BTCR11</th>\n",
       "      <td>01/03/2018</td>\n",
       "      <td>Títulos e Valores Mobiliários Gestão Ativa</td>\n",
       "      <td>0.914306</td>\n",
       "      <td>0.85</td>\n",
       "    </tr>\n",
       "    <tr>\n",
       "      <th>BTLG11</th>\n",
       "      <td>16/04/2010</td>\n",
       "      <td>Renda Gestão Ativa</td>\n",
       "      <td>0.716667</td>\n",
       "      <td>0.72</td>\n",
       "    </tr>\n",
       "    <tr>\n",
       "      <th>BTRA11</th>\n",
       "      <td>14/04/2021</td>\n",
       "      <td>Renda Gestão Ativa</td>\n",
       "      <td>0.674835</td>\n",
       "      <td>0.84</td>\n",
       "    </tr>\n",
       "    <tr>\n",
       "      <th>CACR11</th>\n",
       "      <td>05/09/2019</td>\n",
       "      <td>Híbrido Gestão Ativa</td>\n",
       "      <td>1.360833</td>\n",
       "      <td>1.47</td>\n",
       "    </tr>\n",
       "    <tr>\n",
       "      <th>CARE11</th>\n",
       "      <td>12/12/2011</td>\n",
       "      <td>Títulos e Valores Mobiliários Gestão Ativa</td>\n",
       "      <td></td>\n",
       "      <td></td>\n",
       "    </tr>\n",
       "    <tr>\n",
       "      <th>CPFF11</th>\n",
       "      <td>03/12/2019</td>\n",
       "      <td>Títulos e Valores Mobiliários Gestão Ativa</td>\n",
       "      <td>0.663333</td>\n",
       "      <td>0.665</td>\n",
       "    </tr>\n",
       "    <tr>\n",
       "      <th>CPTS11</th>\n",
       "      <td>13/08/2014</td>\n",
       "      <td>Títulos e Valores Mobiliários Gestão Ativa</td>\n",
       "      <td>1.041583</td>\n",
       "      <td>1.01</td>\n",
       "    </tr>\n",
       "    <tr>\n",
       "      <th>CVBI11</th>\n",
       "      <td>11/10/2017</td>\n",
       "      <td>Títulos e Valores Mobiliários Gestão Ativa</td>\n",
       "      <td>1.108333</td>\n",
       "      <td>1.12</td>\n",
       "    </tr>\n",
       "    <tr>\n",
       "      <th>CXCO11</th>\n",
       "      <td>10/12/2020</td>\n",
       "      <td>Renda Gestão Ativa</td>\n",
       "      <td>0.667488</td>\n",
       "      <td>0.654</td>\n",
       "    </tr>\n",
       "    <tr>\n",
       "      <th>DEVA11</th>\n",
       "      <td>02/07/2020</td>\n",
       "      <td>Não Informado</td>\n",
       "      <td>1.296667</td>\n",
       "      <td>1.32</td>\n",
       "    </tr>\n",
       "    <tr>\n",
       "      <th>EVBI11</th>\n",
       "      <td>27/09/2019</td>\n",
       "      <td>Renda Gestão Ativa</td>\n",
       "      <td>0.702752</td>\n",
       "      <td>0.64</td>\n",
       "    </tr>\n",
       "    <tr>\n",
       "      <th>FCFL11</th>\n",
       "      <td>18/02/2010</td>\n",
       "      <td>Renda Gestão Passiva</td>\n",
       "      <td>0.750153</td>\n",
       "      <td>0.749892</td>\n",
       "    </tr>\n",
       "    <tr>\n",
       "      <th>FEXC11</th>\n",
       "      <td>10/04/2008</td>\n",
       "      <td>Títulos e Valores Mobiliários Gestão Ativa</td>\n",
       "      <td>0.858829</td>\n",
       "      <td>0.87</td>\n",
       "    </tr>\n",
       "    <tr>\n",
       "      <th>FIIB11</th>\n",
       "      <td>29/07/2011</td>\n",
       "      <td>Híbrido Gestão Passiva</td>\n",
       "      <td>3.344167</td>\n",
       "      <td>3.3</td>\n",
       "    </tr>\n",
       "    <tr>\n",
       "      <th>GALG11</th>\n",
       "      <td>20/07/2020</td>\n",
       "      <td>Híbrido Gestão Ativa</td>\n",
       "      <td>0.835</td>\n",
       "      <td>0.84</td>\n",
       "    </tr>\n",
       "    <tr>\n",
       "      <th>GCRI11</th>\n",
       "      <td>02/12/2020</td>\n",
       "      <td>Títulos e Valores Mobiliários Gestão Ativa</td>\n",
       "      <td>1.135</td>\n",
       "      <td>1.025</td>\n",
       "    </tr>\n",
       "    <tr>\n",
       "      <th>GGRC11</th>\n",
       "      <td>11/01/2017</td>\n",
       "      <td>Híbrido Gestão Ativa</td>\n",
       "      <td>0.828333</td>\n",
       "      <td>0.82</td>\n",
       "    </tr>\n",
       "    <tr>\n",
       "      <th>GTLG11</th>\n",
       "      <td>--/--/--</td>\n",
       "      <td>Renda Gestão Ativa</td>\n",
       "      <td>0.7</td>\n",
       "      <td>0.7</td>\n",
       "    </tr>\n",
       "    <tr>\n",
       "      <th>GTWR11</th>\n",
       "      <td>05/11/2015</td>\n",
       "      <td>Renda Gestão Ativa</td>\n",
       "      <td>0.699167</td>\n",
       "      <td>0.67</td>\n",
       "    </tr>\n",
       "    <tr>\n",
       "      <th>HABT11</th>\n",
       "      <td>09/05/2019</td>\n",
       "      <td>Não Informado</td>\n",
       "      <td>1.470833</td>\n",
       "      <td>1.5</td>\n",
       "    </tr>\n",
       "    <tr>\n",
       "      <th>HBRH11</th>\n",
       "      <td>17/08/2018</td>\n",
       "      <td>Renda Gestão Ativa</td>\n",
       "      <td>0.7546</td>\n",
       "      <td>0.68575</td>\n",
       "    </tr>\n",
       "    <tr>\n",
       "      <th>HCTR11</th>\n",
       "      <td>15/09/2018</td>\n",
       "      <td>Títulos e Valores Mobiliários Gestão Ativa</td>\n",
       "      <td>1.595833</td>\n",
       "      <td>1.6</td>\n",
       "    </tr>\n",
       "  </tbody>\n",
       "</table>\n",
       "</div>"
      ],
      "text/plain": [
       "          Birthdate                                        Type   Div_mean  \\\n",
       "Ticker                                                                       \n",
       "AFHI11   20/10/2020  Títulos e Valores Mobiliários Gestão Ativa   1.054167   \n",
       "AIEC11   24/08/2020                          Renda Gestão Ativa       0.68   \n",
       "ALZR11   20/10/2017                          Renda Gestão Ativa   0.690054   \n",
       "ARCT11   31/07/2017                        Híbrido Gestão Ativa   1.245146   \n",
       "ARRI11   01/07/2019  Títulos e Valores Mobiliários Gestão Ativa   1.302953   \n",
       "BARI11   05/07/2018  Títulos e Valores Mobiliários Gestão Ativa   1.153333   \n",
       "BBFI11B  26/07/2004                        Renda Gestão Passiva  26.808801   \n",
       "BBPO11   30/09/2011                        Renda Gestão Passiva   0.923916   \n",
       "BCFF11   27/08/2009  Títulos e Valores Mobiliários Gestão Ativa   0.510239   \n",
       "BCIA11   03/11/2014  Títulos e Valores Mobiliários Gestão Ativa     0.6525   \n",
       "BCRI11   28/04/2015  Títulos e Valores Mobiliários Gestão Ativa   1.240833   \n",
       "BLCP11   27/01/2020                          Renda Gestão Ativa   0.487459   \n",
       "BLMG11   13/11/2019                          Renda Gestão Ativa   0.883333   \n",
       "BLMR11   04/08/2020  Títulos e Valores Mobiliários Gestão Ativa              \n",
       "BPFF11   11/12/2012                          Renda Gestão Ativa   0.584167   \n",
       "BRCO11   13/07/2016                        Híbrido Gestão Ativa     0.5925   \n",
       "BRCR11   21/05/2007                        Híbrido Gestão Ativa       0.48   \n",
       "BTAL11   22/01/2021                          Renda Gestão Ativa   0.737645   \n",
       "BTCR11   01/03/2018  Títulos e Valores Mobiliários Gestão Ativa   0.914306   \n",
       "BTLG11   16/04/2010                          Renda Gestão Ativa   0.716667   \n",
       "BTRA11   14/04/2021                          Renda Gestão Ativa   0.674835   \n",
       "CACR11   05/09/2019                        Híbrido Gestão Ativa   1.360833   \n",
       "CARE11   12/12/2011  Títulos e Valores Mobiliários Gestão Ativa              \n",
       "CPFF11   03/12/2019  Títulos e Valores Mobiliários Gestão Ativa   0.663333   \n",
       "CPTS11   13/08/2014  Títulos e Valores Mobiliários Gestão Ativa   1.041583   \n",
       "CVBI11   11/10/2017  Títulos e Valores Mobiliários Gestão Ativa   1.108333   \n",
       "CXCO11   10/12/2020                          Renda Gestão Ativa   0.667488   \n",
       "DEVA11   02/07/2020                               Não Informado   1.296667   \n",
       "EVBI11   27/09/2019                          Renda Gestão Ativa   0.702752   \n",
       "FCFL11   18/02/2010                        Renda Gestão Passiva   0.750153   \n",
       "FEXC11   10/04/2008  Títulos e Valores Mobiliários Gestão Ativa   0.858829   \n",
       "FIIB11   29/07/2011                      Híbrido Gestão Passiva   3.344167   \n",
       "GALG11   20/07/2020                        Híbrido Gestão Ativa      0.835   \n",
       "GCRI11   02/12/2020  Títulos e Valores Mobiliários Gestão Ativa      1.135   \n",
       "GGRC11   11/01/2017                        Híbrido Gestão Ativa   0.828333   \n",
       "GTLG11     --/--/--                          Renda Gestão Ativa        0.7   \n",
       "GTWR11   05/11/2015                          Renda Gestão Ativa   0.699167   \n",
       "HABT11   09/05/2019                               Não Informado   1.470833   \n",
       "HBRH11   17/08/2018                          Renda Gestão Ativa     0.7546   \n",
       "HCTR11   15/09/2018  Títulos e Valores Mobiliários Gestão Ativa   1.595833   \n",
       "\n",
       "        Div_median  \n",
       "Ticker              \n",
       "AFHI11       1.125  \n",
       "AIEC11        0.61  \n",
       "ALZR11    0.674241  \n",
       "ARCT11    1.280557  \n",
       "ARRI11       1.305  \n",
       "BARI11       1.125  \n",
       "BBFI11B  26.428727  \n",
       "BBPO11        0.89  \n",
       "BCFF11         0.5  \n",
       "BCIA11        0.64  \n",
       "BCRI11       1.225  \n",
       "BLCP11        0.51  \n",
       "BLMG11         0.9  \n",
       "BLMR11              \n",
       "BPFF11       0.585  \n",
       "BRCO11       0.585  \n",
       "BRCR11        0.48  \n",
       "BTAL11         0.8  \n",
       "BTCR11        0.85  \n",
       "BTLG11        0.72  \n",
       "BTRA11        0.84  \n",
       "CACR11        1.47  \n",
       "CARE11              \n",
       "CPFF11       0.665  \n",
       "CPTS11        1.01  \n",
       "CVBI11        1.12  \n",
       "CXCO11       0.654  \n",
       "DEVA11        1.32  \n",
       "EVBI11        0.64  \n",
       "FCFL11    0.749892  \n",
       "FEXC11        0.87  \n",
       "FIIB11         3.3  \n",
       "GALG11        0.84  \n",
       "GCRI11       1.025  \n",
       "GGRC11        0.82  \n",
       "GTLG11         0.7  \n",
       "GTWR11        0.67  \n",
       "HABT11         1.5  \n",
       "HBRH11     0.68575  \n",
       "HCTR11         1.6  "
      ]
     },
     "execution_count": 4,
     "metadata": {},
     "output_type": "execute_result"
    }
   ],
   "source": [
    "realestate['Div_mean']=' ' # Mean of the dividends per share paid in the last 12 months.\n",
    "realestate['Div_median']=' ' # Median of the dividends per share paid in the last 12 months.\n",
    "realestate['Type']=' ' # Goal of the company.\n",
    "realestate['Birthdate']=' ' # Date when the Ticker started to be traded on the Stock Market.\n",
    "for i in (list(realestate.index)):\n",
    "  url='https://statusinvest.com.br/fundos-imobiliarios/'+str.lower(i)\n",
    "  r = requests.get(url, headers=header,verify=False)\n",
    "  url2='https://fiis.com.br/'+str.lower(i)\n",
    "  r2 =requests.get(url2,headers=header,verify=False)\n",
    "  soup=BeautifulSoup(r2.content,'html.parser')\n",
    "  spans=soup.find_all('span','value')\n",
    "\n",
    "  try:\n",
    "    spanlist=[]\n",
    "    for span in spans:\n",
    "      spanlist.append(span.text)\n",
    "    realestate.loc[i,'Type']=spanlist[5]\n",
    "    realestate.loc[i,'Birthdate']=spanlist[6]\n",
    "    dividend=pd.read_html(r.text, decimal=',',thousands='.')[0]\n",
    "    realestate.loc[i,'Div_mean']=dividend['Valor'].mean()\n",
    "    realestate.loc[i,'Div_median']=dividend['Valor'].median()\n",
    "  except:\n",
    "    pass\n",
    "\n",
    "realestate[['Birthdate','Type','Div_mean','Div_median']].head(40)"
   ]
  },
  {
   "cell_type": "markdown",
   "id": "e524a69f",
   "metadata": {},
   "source": [
    "From the first 40 lines of columns webscrapped shown in the table above, it is possible to notice some undesirable characters as \"--/--/--\" and \" \". This happened because not all of the data were available at the websites, so we need to clean all of this information before applying the strategy."
   ]
  },
  {
   "cell_type": "markdown",
   "id": "3740154c",
   "metadata": {},
   "source": [
    "## 2. Cleaning the data"
   ]
  },
  {
   "cell_type": "markdown",
   "id": "29bdf63d",
   "metadata": {},
   "source": [
    "### 2.A Removing undesirable characters, and counting nan values"
   ]
  },
  {
   "cell_type": "code",
   "execution_count": 5,
   "id": "50d9f9ca",
   "metadata": {},
   "outputs": [
    {
     "name": "stdout",
     "output_type": "stream",
     "text": [
      "<class 'pandas.core.frame.DataFrame'>\n",
      "Index: 137 entries, AFHI11 to XPSF11\n",
      "Data columns (total 8 columns):\n",
      " #   Column          Non-Null Count  Dtype  \n",
      "---  ------          --------------  -----  \n",
      " 0   Price           137 non-null    float64\n",
      " 1   Dividend Yield  137 non-null    object \n",
      " 2   P/B             137 non-null    float64\n",
      " 3   Liquidity       137 non-null    int64  \n",
      " 4   Div_mean        132 non-null    object \n",
      " 5   Div_median      132 non-null    object \n",
      " 6   Type            129 non-null    object \n",
      " 7   Birthdate       123 non-null    object \n",
      "dtypes: float64(2), int64(1), object(5)\n",
      "memory usage: 13.7+ KB\n"
     ]
    }
   ],
   "source": [
    "realestate['Birthdate']=realestate['Birthdate'].replace('--/--/--',np.nan,regex=False)\n",
    "realestate['Birthdate']=realestate['Birthdate'].replace(' ',np.nan,regex=True)\n",
    "\n",
    "realestate['Type']=realestate['Type'].replace('Não Informado',np.nan,regex=False)\n",
    "realestate['Type']=realestate['Type'].replace(' ',np.nan,regex=False)\n",
    "\n",
    "realestate['Div_mean']=realestate['Div_mean'].replace(' ',np.nan,regex=True)\n",
    "\n",
    "realestate['Div_median']=realestate['Div_median'].replace(' ',np.nan,regex=True)\n",
    "\n",
    "realestate['Dividend Yield']=realestate['Dividend Yield'].str.replace('.','',regex=True)\n",
    "realestate['Dividend Yield']=realestate['Dividend Yield'].str.replace(',','.',regex=True)\n",
    "realestate['Dividend Yield']=realestate['Dividend Yield'].str.rstrip('%')\n",
    "\n",
    "realestate.info()"
   ]
  },
  {
   "cell_type": "markdown",
   "id": "0e15116a",
   "metadata": {},
   "source": [
    "As printed above, the last 4 columns presents missing values, and some columns as \"Dividend Yield\", \"Div_mean\", \"Div_median\" and \"Birthdate\" were assigned with an incorrect Dtype. In order to apply the strategy, the rows with missing values will be dropped and the correct Dtype will be assigned. "
   ]
  },
  {
   "cell_type": "markdown",
   "id": "3518fc45",
   "metadata": {},
   "source": [
    "### 2.B Dropping rows with NaN values and assigning the correct dtype."
   ]
  },
  {
   "cell_type": "code",
   "execution_count": 6,
   "id": "689f3271",
   "metadata": {},
   "outputs": [
    {
     "name": "stdout",
     "output_type": "stream",
     "text": [
      "<class 'pandas.core.frame.DataFrame'>\n",
      "Index: 111 entries, AFHI11 to XPPR11\n",
      "Data columns (total 8 columns):\n",
      " #   Column          Non-Null Count  Dtype         \n",
      "---  ------          --------------  -----         \n",
      " 0   Price           111 non-null    float64       \n",
      " 1   Dividend Yield  111 non-null    float64       \n",
      " 2   P/B             111 non-null    float64       \n",
      " 3   Liquidity       111 non-null    int64         \n",
      " 4   Div_mean        111 non-null    float64       \n",
      " 5   Div_median      111 non-null    float64       \n",
      " 6   Type            111 non-null    object        \n",
      " 7   Birthdate       110 non-null    datetime64[ns]\n",
      "dtypes: datetime64[ns](1), float64(5), int64(1), object(1)\n",
      "memory usage: 7.8+ KB\n"
     ]
    }
   ],
   "source": [
    "realestate.dropna(axis=0,how='any',inplace=True)\n",
    "\n",
    "realestate['Dividend Yield']=realestate['Dividend Yield'].astype(float)/100\n",
    "\n",
    "realestate[['Div_mean','Div_median']]=realestate[['Div_mean','Div_median']].astype(float)\n",
    "\n",
    "realestate['Birthdate']=pd.to_datetime(realestate['Birthdate'],format='%d/%m/%Y',errors='coerce')\n",
    "\n",
    "realestate.info()"
   ]
  },
  {
   "cell_type": "markdown",
   "id": "b7822b85",
   "metadata": {},
   "source": [
    "We can see that there is still a null value on the \"Birthdate\" column. "
   ]
  },
  {
   "cell_type": "code",
   "execution_count": 7,
   "id": "b6835545",
   "metadata": {},
   "outputs": [
    {
     "name": "stdout",
     "output_type": "stream",
     "text": [
      "<class 'pandas.core.frame.DataFrame'>\n",
      "Index: 110 entries, AFHI11 to XPPR11\n",
      "Data columns (total 8 columns):\n",
      " #   Column          Non-Null Count  Dtype         \n",
      "---  ------          --------------  -----         \n",
      " 0   Price           110 non-null    float64       \n",
      " 1   Dividend Yield  110 non-null    float64       \n",
      " 2   P/B             110 non-null    float64       \n",
      " 3   Liquidity       110 non-null    int64         \n",
      " 4   Div_mean        110 non-null    float64       \n",
      " 5   Div_median      110 non-null    float64       \n",
      " 6   Type            110 non-null    object        \n",
      " 7   Birthdate       110 non-null    datetime64[ns]\n",
      "dtypes: datetime64[ns](1), float64(5), int64(1), object(1)\n",
      "memory usage: 7.7+ KB\n"
     ]
    }
   ],
   "source": [
    "realestate=realestate[realestate['Birthdate'].notnull()]\n",
    "realestate.info()"
   ]
  },
  {
   "cell_type": "markdown",
   "id": "d6156f7f",
   "metadata": {},
   "source": [
    "Finally, our dataframe is cleaned and ready to be filtered!"
   ]
  },
  {
   "cell_type": "markdown",
   "id": "4840c79d",
   "metadata": {},
   "source": [
    "## 3. Applying the S-Rank Strategy"
   ]
  },
  {
   "cell_type": "markdown",
   "id": "bc5225e7",
   "metadata": {},
   "source": [
    "### 3.A Filtering the data."
   ]
  },
  {
   "cell_type": "code",
   "execution_count": 8,
   "id": "c79dce64",
   "metadata": {},
   "outputs": [
    {
     "name": "stdout",
     "output_type": "stream",
     "text": [
      "80\n"
     ]
    }
   ],
   "source": [
    "\n",
    "#Filter 2: Type\n",
    "realestate=realestate[realestate['Type']!='Desenvolvimento para Renda Gestão Ativa']\n",
    "\n",
    "#Filter 3: |Mean-Median|\n",
    "realestate['|Mean-Median|']=100*abs(realestate['Div_mean']-realestate['Div_median'])/realestate['Div_mean']\n",
    "realestate=realestate[realestate['|Mean-Median|']<realestate['|Mean-Median|'].mean()]\n",
    "\n",
    "#Filter 4: Age\n",
    "realestate['today']=date.today() \n",
    "realestate['today']=pd.to_datetime(realestate['today'],format='%Y-%m-%d',errors='coerce')\n",
    "realestate['Age']=(realestate['today']-realestate['Birthdate']).dt.days\n",
    "realestate=realestate[realestate['Age']>365]\n",
    "\n",
    "print(realestate.shape[0])"
   ]
  },
  {
   "cell_type": "markdown",
   "id": "1205aa08",
   "metadata": {},
   "source": [
    "After applying the filters, it is possible to see that our resulting dataframe contains 77 rows, so let's finally obtain our ranking of the best 15 brazilian Real Estates."
   ]
  },
  {
   "cell_type": "markdown",
   "id": "43fba358",
   "metadata": {},
   "source": [
    "### 3.B Sorting values and creating the ranking."
   ]
  },
  {
   "cell_type": "code",
   "execution_count": 9,
   "id": "7fa6c815",
   "metadata": {},
   "outputs": [
    {
     "name": "stdout",
     "output_type": "stream",
     "text": [
      "The best 15 tickers are: \n",
      "Ticker\n",
      "BBFI11B    11\n",
      "NSLU11     19\n",
      "SEQR11     32\n",
      "RELG11     34\n",
      "HCTR11     39\n",
      "BBPO11     41\n",
      "BLMG11     42\n",
      "XPPR11     45\n",
      "GTWR11     45\n",
      "RECT11     46\n",
      "MORE11     47\n",
      "RBFF11     50\n",
      "MFII11     51\n",
      "QAGR11     52\n",
      "OUFF11     58\n",
      "Name: ranking, dtype: int64\n"
     ]
    }
   ],
   "source": [
    "realestate=realestate.sort_values(by='Dividend Yield',ascending=False)\n",
    "realestate['rank_div']=range(1,len(realestate)+1)\n",
    "realestate=realestate.sort_values(by='P/B')\n",
    "realestate['rank_P/B']=range(1,len(realestate)+1)\n",
    "\n",
    "realestate['ranking']=realestate['rank_div']+realestate['rank_P/B']\n",
    "\n",
    "ranking=realestate['ranking'].sort_values()\n",
    "\n",
    "print('The best 15 tickers are: ')\n",
    "\n",
    "print(ranking.iloc[0:15])"
   ]
  },
  {
   "cell_type": "markdown",
   "id": "4b9825fc",
   "metadata": {},
   "source": [
    "Finally, we got our ranking of the best 15 tickers based on the Rank-S strategy. However, it is important to emphasize that the result obtained in this work is not a purchase recommendation."
   ]
  },
  {
   "cell_type": "code",
   "execution_count": 10,
   "id": "f3c57892",
   "metadata": {},
   "outputs": [],
   "source": [
    "realestate=realestate.sort_values(by='ranking')\n",
    "realestate['Classification']=' '\n",
    "realestate.iloc[0:15,-1]='Top 15 Tickers'\n",
    "realestate.iloc[15:,-1]='Others'\n"
   ]
  },
  {
   "cell_type": "code",
   "execution_count": 12,
   "id": "0d4a6a75",
   "metadata": {
    "scrolled": true
   },
   "outputs": [
    {
     "data": {
      "image/png": "[encoded data removed]",
      "text/plain": [
       "<Figure size 648x432 with 1 Axes>"
      ]
     },
     "metadata": {},
     "output_type": "display_data"
    }
   ],
   "source": [
    "ax=sns.scatterplot(data=realestate, x='P/B', y='Dividend Yield',hue='Classification')\n",
    "ax.set_xlabel('Price/Book',fontsize=14)\n",
    "ax.set_ylabel('Dividend Yield',fontsize=14)\n",
    "ax.set_title('Distribution of the top 15 Tickers in comparison to the others',fontsize=16)\n",
    "ax.legend(loc='upper right',fontsize=12)\n",
    "sns.set(rc={'figure.figsize':(9,6)});"
   ]
  }
 ],
 "metadata": {
  "kernelspec": {
   "display_name": "Python 3 (ipykernel)",
   "language": "python",
   "name": "python3"
  },
  "language_info": {
   "codemirror_mode": {
    "name": "ipython",
    "version": 3
   },
   "file_extension": ".py",
   "mimetype": "text/x-python",
   "name": "python",
   "nbconvert_exporter": "python",
   "pygments_lexer": "ipython3",
   "version": "3.7.11"
  }
 },
 "nbformat": 4,
 "nbformat_minor": 5
}
